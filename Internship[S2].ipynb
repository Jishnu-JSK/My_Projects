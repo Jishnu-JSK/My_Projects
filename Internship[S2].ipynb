{
  "cells": [
    {
      "cell_type": "markdown",
      "metadata": {
        "id": "tcKmVw3wnHek"
      },
      "source": [
        "Internship Day 1"
      ]
    },
    {
      "cell_type": "code",
      "execution_count": null,
      "metadata": {
        "colab": {
          "base_uri": "https://localhost:8080/"
        },
        "id": "3cX6Q0-2_k_1",
        "outputId": "6a176cf7-fc7e-4512-e083-31375941228e"
      },
      "outputs": [
        {
          "name": "stdout",
          "output_type": "stream",
          "text": [
            "Hello, Jishnu!\n"
          ]
        }
      ],
      "source": [
        "print(\"Hello, Jishnu!\")"
      ]
    },
    {
      "cell_type": "code",
      "execution_count": null,
      "metadata": {
        "colab": {
          "base_uri": "https://localhost:8080/"
        },
        "id": "s28F55Ue_8MP",
        "outputId": "30771ef4-caf5-43ed-be52-4c7b511bfd7c"
      },
      "outputs": [
        {
          "name": "stdout",
          "output_type": "stream",
          "text": [
            "JSK\n"
          ]
        }
      ],
      "source": [
        "#This is a Jupyter Notebook\n",
        "x=104\n",
        "x=\"JSK\"\n",
        "print(x)"
      ]
    },
    {
      "cell_type": "code",
      "execution_count": null,
      "metadata": {
        "colab": {
          "base_uri": "https://localhost:8080/"
        },
        "id": "GfyL1FzCBxSL",
        "outputId": "9d040458-af3f-4fe9-a2aa-06e1fde3095a"
      },
      "outputs": [
        {
          "name": "stdout",
          "output_type": "stream",
          "text": [
            "3\n",
            "<class 'float'>\n"
          ]
        }
      ],
      "source": [
        "y=3.7\n",
        "print(int(y)) #Type Casting of variable y (from float value to integer value)\n",
        "print(type(y)) #Type function is used to check the datatype of the variable"
      ]
    },
    {
      "cell_type": "code",
      "execution_count": null,
      "metadata": {
        "colab": {
          "base_uri": "https://localhost:8080/"
        },
        "id": "Mw9LxFEeC-vH",
        "outputId": "b201f4e3-9833-4147-a924-0e63aee55d0c"
      },
      "outputs": [
        {
          "name": "stdout",
          "output_type": "stream",
          "text": [
            " 37 \n",
            " Colab by Google\n"
          ]
        }
      ],
      "source": [
        "z,Z=37,\"Colab by Google\" #Multiple Assignment and to demostrate case sensitivity of variables\n",
        "print(\"\",z,\"\\n\",Z)"
      ]
    },
    {
      "cell_type": "code",
      "execution_count": null,
      "metadata": {
        "colab": {
          "base_uri": "https://localhost:8080/"
        },
        "id": "Mi1RZw_gFFLu",
        "outputId": "cb910dad-5a1f-47c5-95b8-3dabd185b051"
      },
      "outputs": [
        {
          "name": "stdout",
          "output_type": "stream",
          "text": [
            "1 1\n"
          ]
        }
      ],
      "source": [
        "x=y=1; print(x,y)"
      ]
    },
    {
      "cell_type": "code",
      "execution_count": null,
      "metadata": {
        "colab": {
          "base_uri": "https://localhost:8080/"
        },
        "id": "PN5BBAiLG4Uz",
        "outputId": "bb9f76c1-3780-4abe-9265-76afd9f5e039"
      },
      "outputs": [
        {
          "name": "stdout",
          "output_type": "stream",
          "text": [
            "<class 'complex'> Imaginary Number: 10j\n",
            "<class 'float'>\n"
          ]
        }
      ],
      "source": [
        "a=10j; print(type(a),\"Imaginary Number:\",a)\n",
        "print(type(2e10))"
      ]
    },
    {
      "cell_type": "code",
      "execution_count": null,
      "metadata": {
        "colab": {
          "base_uri": "https://localhost:8080/"
        },
        "id": "WOpnaVSQHACZ",
        "outputId": "a207d981-46bf-4a9f-c460-3161eddafdd5"
      },
      "outputs": [
        {
          "name": "stdout",
          "output_type": "stream",
          "text": [
            "1.0 2\n"
          ]
        }
      ],
      "source": [
        "x=1\n",
        "y=2.8\n",
        "x,y=float(x),int(y)\n",
        "print(x,y)"
      ]
    },
    {
      "cell_type": "code",
      "execution_count": null,
      "metadata": {
        "colab": {
          "base_uri": "https://localhost:8080/"
        },
        "id": "4zjsVPJFO0qS",
        "outputId": "8c453929-129d-4c97-c853-3ca692c736f9"
      },
      "outputs": [
        {
          "name": "stdout",
          "output_type": "stream",
          "text": [
            "Hello,\"Anton\"\n"
          ]
        }
      ],
      "source": [
        "print('Hello,\"Anton\"') #This is quotes in quotes concept, it either has double-single or vice versa but not same quotes"
      ]
    },
    {
      "cell_type": "code",
      "execution_count": null,
      "metadata": {
        "colab": {
          "base_uri": "https://localhost:8080/"
        },
        "id": "fZ68nk65P2D9",
        "outputId": "27b28517-d1ba-4b94-9d9c-32fc8834ecaa"
      },
      "outputs": [
        {
          "name": "stdout",
          "output_type": "stream",
          "text": [
            "is\n",
            "Hello\n",
            "World!\n",
            "\n"
          ]
        }
      ],
      "source": [
        "#Slicing\n",
        "b=\"Jishnu\"; print(b[1:3]); h=\"Hello, World!\"; print(h[:5]); print(h[7:]); print(h[14:])"
      ]
    },
    {
      "cell_type": "code",
      "execution_count": null,
      "metadata": {
        "colab": {
          "base_uri": "https://localhost:8080/"
        },
        "id": "9UdNAd6aSsFP",
        "outputId": "1b3c2664-bd58-47a8-c1d9-7d7b53e37376"
      },
      "outputs": [
        {
          "name": "stdout",
          "output_type": "stream",
          "text": [
            "THO\n"
          ]
        }
      ],
      "source": [
        "a=\"Python\".upper()\n",
        "print(a[-4:-1])"
      ]
    },
    {
      "cell_type": "code",
      "execution_count": null,
      "metadata": {
        "colab": {
          "base_uri": "https://localhost:8080/"
        },
        "id": "55Tn4eOqTa2X",
        "outputId": "8dc3ff41-fadb-4aae-ef76-ccf4a129b71d"
      },
      "outputs": [
        {
          "name": "stdout",
          "output_type": "stream",
          "text": [
            "HELLO, AMAN!\n",
            "Hello World\n"
          ]
        }
      ],
      "source": [
        "print(\" Hello, Adan! \".strip().replace(\"d\",\"m\").upper())\n",
        "a=\"Hello\"\n",
        "b=\" World\"\n",
        "print(a+b)"
      ]
    },
    {
      "cell_type": "code",
      "execution_count": null,
      "metadata": {
        "colab": {
          "base_uri": "https://localhost:8080/"
        },
        "id": "D3fRgidSWRu1",
        "outputId": "e1eedf32-dddb-4d79-ff3d-b5cb135eb4ac"
      },
      "outputs": [
        {
          "name": "stdout",
          "output_type": "stream",
          "text": [
            "Enter 1st number:37\n",
            "Enter 1st number:104\n",
            "37 is less than 104\n"
          ]
        }
      ],
      "source": [
        "def i():\n",
        "  z=int(input(\"Enter 1st number:\"))\n",
        "  x=int(input(\"Enter 1st number:\"))\n",
        "  if (z>x):\n",
        "    print(z,\"is greater than\",x)\n",
        "  elif (z==x):\n",
        "    print(z,\"is equal to\",x)\n",
        "  else:\n",
        "    print(z,\"is less than\",x)\n",
        "i()"
      ]
    },
    {
      "cell_type": "code",
      "execution_count": null,
      "metadata": {
        "colab": {
          "base_uri": "https://localhost:8080/"
        },
        "id": "VgMSBGFZXwZG",
        "outputId": "1d0b5eda-b19d-4e6c-cad5-04007f3f9d09"
      },
      "outputs": [
        {
          "name": "stdout",
          "output_type": "stream",
          "text": [
            "Enter 1st number:123\n",
            "Enter 1st number:1000\n",
            "123 is less than 1000\n"
          ]
        }
      ],
      "source": [
        "i()"
      ]
    },
    {
      "cell_type": "code",
      "execution_count": null,
      "metadata": {
        "colab": {
          "base_uri": "https://localhost:8080/"
        },
        "id": "LuAL98LEYOb6",
        "outputId": "3a547ef2-0f41-4174-a9d6-eeb6b6b5948d"
      },
      "outputs": [
        {
          "name": "stdout",
          "output_type": "stream",
          "text": [
            "Enter 1st number:2\n",
            "Enter 2nd number:3\n",
            "Addition: 5 \n",
            "Difference: -1 \n",
            "Product: 6 \n",
            "Division: 0.6666666666666666 \n",
            "Floor Division: 0 \n",
            "Mod: 2\n"
          ]
        }
      ],
      "source": [
        "def aop():\n",
        "  a=int(input(\"Enter 1st number:\"))\n",
        "  b=int(input(\"Enter 2nd number:\"))\n",
        "  print(\"Addition:\",a+b,\"\\nDifference:\",a-b,\"\\nProduct:\",a*b,\"\\nDivision:\",a/b,\"\\nFloor Division:\",a//b,\"\\nMod:\",a%b)\n",
        "aop()"
      ]
    },
    {
      "cell_type": "code",
      "execution_count": null,
      "metadata": {
        "colab": {
          "base_uri": "https://localhost:8080/"
        },
        "id": "ntZ9AhThnND6",
        "outputId": "72b06ab4-6080-4f27-a7f7-4e2be90a7c0a"
      },
      "outputs": [
        {
          "name": "stdout",
          "output_type": "stream",
          "text": [
            "False\n",
            "True\n",
            "False\n"
          ]
        }
      ],
      "source": [
        "#Logical operator programs\n",
        "a=10\n",
        "print(a<5 and a>9) #F and T is F\n",
        "print(a<5 or a>9) #F or T is T\n",
        "print(not(a<12)) #not(T) is F"
      ]
    },
    {
      "cell_type": "markdown",
      "metadata": {
        "id": "w5LRVjAsp_zJ"
      },
      "source": [
        "Loops:\n",
        "\n",
        " There are two types of loops in Python\n",
        "*   while loop\n",
        "*   for loop"
      ]
    },
    {
      "cell_type": "code",
      "execution_count": null,
      "metadata": {
        "colab": {
          "base_uri": "https://localhost:8080/"
        },
        "id": "-GrgdBdsp00d",
        "outputId": "2e8f06e9-394c-4f66-bc90-1e4abfb1859c"
      },
      "outputs": [
        {
          "name": "stdout",
          "output_type": "stream",
          "text": [
            "3 * 1 = 3\n",
            "3 * 2 = 6\n",
            "3 * 3 = 9\n",
            "3 * 4 = 12\n",
            "3 * 5 = 15\n",
            "3 * 6 = 18\n",
            "3 * 7 = 21\n",
            "3 * 8 = 24\n",
            "3 * 9 = 27\n",
            "3 * 10 = 30\n"
          ]
        }
      ],
      "source": [
        "#Multiple of three program using while loop\n",
        "i=1\n",
        "while (i<11):\n",
        "  print(3,\"*\",i,\"=\",3*i)\n",
        "  i+=1"
      ]
    },
    {
      "cell_type": "code",
      "execution_count": null,
      "metadata": {
        "colab": {
          "base_uri": "https://localhost:8080/"
        },
        "id": "FR9gowJusa9A",
        "outputId": "cb735818-4463-4de3-bd9c-ab784c02748f"
      },
      "outputs": [
        {
          "name": "stdout",
          "output_type": "stream",
          "text": [
            "1\n",
            "2\n",
            "3\n"
          ]
        }
      ],
      "source": [
        "i=1\n",
        "while i<6:\n",
        "  print(i)\n",
        "  if i == 3:\n",
        "    break\n",
        "  i+=1\n",
        "  #3 is also displayed coz print statement is before condition statement"
      ]
    },
    {
      "cell_type": "code",
      "execution_count": null,
      "metadata": {
        "colab": {
          "base_uri": "https://localhost:8080/"
        },
        "id": "MWFjcE23uNXY",
        "outputId": "02ac3d42-dd2c-4e70-ea00-b6f2c451b238"
      },
      "outputs": [
        {
          "name": "stdout",
          "output_type": "stream",
          "text": [
            "1\n",
            "2\n",
            "4\n",
            "5\n",
            "6\n"
          ]
        }
      ],
      "source": [
        "i=0\n",
        "while i<6:\n",
        "  i+=1\n",
        "  if i==3:\n",
        "    continue\n",
        "  print(i)"
      ]
    },
    {
      "cell_type": "code",
      "execution_count": null,
      "metadata": {
        "colab": {
          "base_uri": "https://localhost:8080/"
        },
        "id": "dbalFhd4vCb5",
        "outputId": "57b8dc6c-913b-429f-a472-3858f5ef45f4"
      },
      "outputs": [
        {
          "name": "stdout",
          "output_type": "stream",
          "text": [
            "1\n",
            "2\n",
            "3\n",
            "4\n",
            "5\n",
            "i is no longer less than 6\n"
          ]
        }
      ],
      "source": [
        "i=1\n",
        "while i < 6:\n",
        "  print(i)\n",
        "  i+=1\n",
        "else:\n",
        "  print(\"i is no longer less than 6\")"
      ]
    },
    {
      "cell_type": "markdown",
      "metadata": {
        "id": "rEnzSRjswXGW"
      },
      "source": [
        "for loop:\n",
        "\n",
        "Syntax:\n",
        "\n",
        "```\n",
        "for i in range(start,stop,step):\n",
        "   statements\n",
        "   ..........\n",
        "\n",
        "```\n",
        "\n"
      ]
    },
    {
      "cell_type": "markdown",
      "metadata": {
        "id": "9S-pDPJKxFG-"
      },
      "source": [
        "Accessing and Displaying Elements of a List:\n",
        "\n",
        "Example:\n",
        "\n",
        "```\n",
        "l=[1,2,3]\n",
        "for i in l: #Accessing the list\n",
        "  print(i)  #Displaying elements of the list\n",
        "```\n",
        "\n"
      ]
    },
    {
      "cell_type": "code",
      "execution_count": null,
      "metadata": {
        "colab": {
          "base_uri": "https://localhost:8080/"
        },
        "id": "H6t95pBkwE0j",
        "outputId": "0ae0869f-c484-4b80-ea64-c6e9afe1b891"
      },
      "outputs": [
        {
          "name": "stdout",
          "output_type": "stream",
          "text": [
            "A\n",
            "C\n"
          ]
        }
      ],
      "source": [
        "f=['A','B','C']\n",
        "for i in f:\n",
        "  if i == 'B':\n",
        "    continue\n",
        "  print(i)"
      ]
    },
    {
      "cell_type": "code",
      "execution_count": null,
      "metadata": {
        "colab": {
          "base_uri": "https://localhost:8080/"
        },
        "id": "3wm0JtAhyMun",
        "outputId": "1e4082fe-5947-4048-fd3f-a30ee466d7c2"
      },
      "outputs": [
        {
          "name": "stdout",
          "output_type": "stream",
          "text": [
            "1\n",
            "4\n",
            "7\n",
            "10\n",
            "13\n",
            "16\n",
            "19\n",
            "22\n",
            "25\n",
            "28\n"
          ]
        }
      ],
      "source": [
        "for i in range(1,30,3):\n",
        "  print(i)"
      ]
    },
    {
      "cell_type": "code",
      "execution_count": null,
      "metadata": {
        "colab": {
          "base_uri": "https://localhost:8080/"
        },
        "id": "Rd3iYE1X0egv",
        "outputId": "d22ae6c2-102a-405a-b8e3-e0b54f166614"
      },
      "outputs": [
        {
          "name": "stdout",
          "output_type": "stream",
          "text": [
            "0\n",
            "1\n",
            "2\n",
            "3\n",
            "4\n",
            "5\n",
            "Finally Finished Execution\n"
          ]
        }
      ],
      "source": [
        "for x in range(6):\n",
        "  print(x)\n",
        "else:\n",
        "  print(\"Finally Finished Execution\")"
      ]
    },
    {
      "cell_type": "markdown",
      "metadata": {
        "id": "d4T3WyF70xgy"
      },
      "source": [
        "Nested Loop:\n",
        "\n",
        "\n",
        "```\n",
        "for i in condition:\n",
        "  for j in condition:\n",
        "    statements\n",
        "    .........\n",
        "    \n",
        "```\n",
        "\n"
      ]
    },
    {
      "cell_type": "code",
      "execution_count": null,
      "metadata": {
        "colab": {
          "base_uri": "https://localhost:8080/"
        },
        "id": "rI216oS30_6g",
        "outputId": "77c0ac35-28c6-4ca9-fa19-6c7762b611a2"
      },
      "outputs": [
        {
          "name": "stdout",
          "output_type": "stream",
          "text": [
            "red orange\n",
            "red mango\n",
            "red apple\n",
            "big orange\n",
            "big mango\n",
            "big apple\n",
            "small orange\n",
            "small mango\n",
            "small apple\n"
          ]
        }
      ],
      "source": [
        "adj=[\"red\",\"big\",\"small\"]\n",
        "f=[\"orange\",\"mango\",\"apple\"]\n",
        "for i in adj:\n",
        "  for j in f:\n",
        "    print(i,j)"
      ]
    },
    {
      "cell_type": "code",
      "execution_count": null,
      "metadata": {
        "colab": {
          "base_uri": "https://localhost:8080/"
        },
        "id": "oIAGYW7N3KAb",
        "outputId": "15e9706d-e992-476c-b002-45004a1ed31b"
      },
      "outputs": [
        {
          "name": "stdout",
          "output_type": "stream",
          "text": [
            "1\n",
            "2\n",
            "1\n",
            "3\n",
            "\n",
            "\n",
            "1 \t\n",
            "2 \t\n",
            "3 \t\n"
          ]
        }
      ],
      "source": [
        "l=[1,2,1,3] #ordered\n",
        "s={1,2,1,3} #unordered\n",
        "for i in l:\n",
        "  print(i)\n",
        "print(\"\\n\")\n",
        "for j in s:\n",
        "  print(j,\"\\t\")"
      ]
    },
    {
      "cell_type": "code",
      "execution_count": null,
      "metadata": {
        "colab": {
          "base_uri": "https://localhost:8080/"
        },
        "id": "q8tyMgC45fog",
        "outputId": "e514b7f1-2fcc-48c7-ded0-affc1f6a4526"
      },
      "outputs": [
        {
          "name": "stdout",
          "output_type": "stream",
          "text": [
            "[1, 2, 3]\n"
          ]
        }
      ],
      "source": [
        "t=(1,2)\n",
        "l=list(t)\n",
        "l.append(3)\n",
        "print(l)"
      ]
    },
    {
      "cell_type": "markdown",
      "metadata": {
        "id": "vWTuRQr66xkz"
      },
      "source": [
        "len():\n",
        "\n",
        "Syntax:\n",
        "\n",
        "\n",
        "```\n",
        "len(variable)\n",
        "```\n",
        "\n"
      ]
    },
    {
      "cell_type": "code",
      "execution_count": null,
      "metadata": {
        "colab": {
          "base_uri": "https://localhost:8080/"
        },
        "id": "a3wBFOT36VV5",
        "outputId": "d861f309-0f47-47dc-f7fb-20a225d1d622"
      },
      "outputs": [
        {
          "name": "stdout",
          "output_type": "stream",
          "text": [
            "5 \n",
            " <class 'list'>\n"
          ]
        }
      ],
      "source": [
        "l=[1,2,3,'J',10j]\n",
        "print(len(l),\"\\n\",type(l))"
      ]
    },
    {
      "cell_type": "markdown",
      "metadata": {
        "id": "d6RFJ6fh7hf0"
      },
      "source": [
        "List Constructor: (list())\n",
        "\n",
        "Syntax:\n",
        "\n",
        "\n",
        "```\n",
        "list(variable or values)\n",
        "```\n",
        "\n"
      ]
    },
    {
      "cell_type": "code",
      "execution_count": null,
      "metadata": {
        "colab": {
          "base_uri": "https://localhost:8080/"
        },
        "id": "lz5RceZ-7J1X",
        "outputId": "e4a0e325-8ec1-4c3b-bd71-1a8c9fce2e60"
      },
      "outputs": [
        {
          "name": "stdout",
          "output_type": "stream",
          "text": [
            "[1, 2, 3]\n"
          ]
        }
      ],
      "source": [
        "l=list((1,2,3))\n",
        "print(l)"
      ]
    },
    {
      "cell_type": "code",
      "execution_count": null,
      "metadata": {
        "colab": {
          "base_uri": "https://localhost:8080/"
        },
        "id": "dRICWZ5E9tAJ",
        "outputId": "ce83af7a-de99-4c29-b88e-d64a1721ad7b"
      },
      "outputs": [
        {
          "name": "stdout",
          "output_type": "stream",
          "text": [
            "[1, 2, 3]\n",
            "<class 'list'>\n",
            "2\n"
          ]
        }
      ],
      "source": [
        "t=(1,2)\n",
        "l=list(t)\n",
        "l.append(3)\n",
        "print(l)\n",
        "print(type(l))\n",
        "print(l[1])"
      ]
    },
    {
      "cell_type": "code",
      "execution_count": null,
      "metadata": {
        "colab": {
          "base_uri": "https://localhost:8080/"
        },
        "id": "riShBcuE9xK3",
        "outputId": "c000f229-c914-4b93-cec4-5148c53ad5b0"
      },
      "outputs": [
        {
          "name": "stdout",
          "output_type": "stream",
          "text": [
            "cherry\n"
          ]
        }
      ],
      "source": [
        "l=['apple','banana','cherry']\n",
        "print(l[-1])"
      ]
    },
    {
      "cell_type": "code",
      "execution_count": null,
      "metadata": {
        "colab": {
          "base_uri": "https://localhost:8080/"
        },
        "id": "rqu-4olS-kNK",
        "outputId": "af39558c-ebd5-48f9-948d-699635b59329"
      },
      "outputs": [
        {
          "name": "stdout",
          "output_type": "stream",
          "text": [
            "['apple', 'banana', 'cherry']\n",
            "['mango', 'kiwi', 'water melon']\n"
          ]
        }
      ],
      "source": [
        "l=['apple','banana','cherry',\"mango\",\"kiwi\",\"water melon\"]\n",
        "print(l[:3])\n",
        "print(l[-3:])"
      ]
    },
    {
      "cell_type": "markdown",
      "metadata": {
        "id": "jZrtBkf1_2Ib"
      },
      "source": [
        "Membership Operator:\n",
        "\n",
        "'in' and 'not in' are membership operators\n",
        "\n",
        "Example:\n",
        "\n",
        "\n",
        "```\n",
        "l=[1,2,6]\n",
        "for i in l:\n",
        "  if i in [3,4,5,6,7,8,9]:\n",
        "    print(\"Bonus Number Found!\")\n",
        "  else:\n",
        "    continue\n",
        "```\n",
        "\n"
      ]
    },
    {
      "cell_type": "code",
      "execution_count": null,
      "metadata": {
        "colab": {
          "base_uri": "https://localhost:8080/"
        },
        "id": "71vnSH0g_r4w",
        "outputId": "ee72e3b7-3e0f-4b44-f697-2060abe46380"
      },
      "outputs": [
        {
          "name": "stdout",
          "output_type": "stream",
          "text": [
            "Bonus Number Found!\n",
            "Bonus Number Found!\n",
            "Bonus Number Found!\n",
            "Jackpot\n"
          ]
        }
      ],
      "source": [
        "l=[1,2,6,10,8,9,37]\n",
        "for i in l:\n",
        "  if i in [3,4,5,6,7,8,9]:\n",
        "    print(\"Bonus Number Found!\")\n",
        "  elif i in [37,104]:\n",
        "    print(\"Jackpot\")\n",
        "  else:\n",
        "    continue"
      ]
    },
    {
      "cell_type": "code",
      "execution_count": null,
      "metadata": {
        "colab": {
          "base_uri": "https://localhost:8080/"
        },
        "id": "KaSrTbVQAtZh",
        "outputId": "dec7d3df-8440-424d-b620-6c4581f9a560"
      },
      "outputs": [
        {
          "name": "stdout",
          "output_type": "stream",
          "text": [
            "['apple', 'banana', 'cherry', 'mango']\n",
            "['apple', 'banana', 'cherry', 'mango', 'kiwi', 'peach']\n",
            "['apple', 'black berry', 'strawberry', 'mango', 'kiwi', 'peach']\n"
          ]
        }
      ],
      "source": [
        "l=['apple','banana','cherry']\n",
        "l.append(\"mango\")\n",
        "print(l)\n",
        "l.extend([\"kiwi\",\"peach\"])\n",
        "print(l)\n",
        "l[1:3]=[\"black berry\",\"strawberry\"]\n",
        "print(l)"
      ]
    },
    {
      "cell_type": "code",
      "execution_count": null,
      "metadata": {
        "colab": {
          "base_uri": "https://localhost:8080/"
        },
        "id": "ra1wK-z3BcyF",
        "outputId": "75cd3301-67f0-47bf-8777-4da85859bdd3"
      },
      "outputs": [
        {
          "name": "stdout",
          "output_type": "stream",
          "text": [
            "['apple', 1, 2, 'a', 'b', 'c', 'd', 'mango', 'kiwi', 'peach']\n",
            "['apple', 'orange']\n"
          ]
        }
      ],
      "source": [
        "l=['apple', 'black berry', 'strawberry', 'mango', 'kiwi', 'peach']\n",
        "l[1:2]=[1,2]\n",
        "l[3:4]=['a','b','c','d']\n",
        "print(l)\n",
        "w=['apple','mango','cherry']\n",
        "w[1:3]=[\"orange\"]\n",
        "print(w)"
      ]
    },
    {
      "cell_type": "markdown",
      "metadata": {
        "id": "ftFLbdzrDzAj"
      },
      "source": [
        "<u>append():</u>\n",
        "\n",
        "Syntax:\n",
        "\n",
        "\n",
        "```\n",
        "l=[val1,val2]\n",
        "l.append(val3)\n",
        "```\n",
        "\n",
        "<u>extend():</u>\n",
        "\n",
        "Syntax:\n",
        "\n",
        "\n",
        "```\n",
        "l=[val1,val2]\n",
        "l.extend([val3,val4,....])\n",
        "```\n",
        "<u>insert():</u>\n",
        "\n",
        "Syntax:\n",
        "\n",
        "\n",
        "```\n",
        "l=[val1,val2,val3]\n",
        "l.insert(index,val4)\n",
        "```\n",
        "\n",
        "\n",
        "\n",
        "\n",
        "\n"
      ]
    },
    {
      "cell_type": "code",
      "execution_count": null,
      "metadata": {
        "colab": {
          "base_uri": "https://localhost:8080/"
        },
        "id": "MCiGNC3EDXet",
        "outputId": "6548606d-c554-46d0-8438-3e4a55eaeb87"
      },
      "outputs": [
        {
          "name": "stdout",
          "output_type": "stream",
          "text": [
            "[1, 2, 3, 'a', 'b']\n",
            "[1, 2, 3, [100, 200, 300], 'a', 'b']\n",
            "['a', 'b', 100, 200, 300]\n"
          ]
        }
      ],
      "source": [
        "l=[1,2,3]\n",
        "m=['a','b']\n",
        "l.extend(m)\n",
        "print(l)\n",
        "n=[100,200,300]\n",
        "l.insert(3,n)\n",
        "print(l)\n",
        "m.extend(n)\n",
        "print(m)"
      ]
    },
    {
      "cell_type": "markdown",
      "metadata": {
        "id": "KchFHImkF_0Y"
      },
      "source": [
        "<u>**remove():**\n",
        "\n",
        "Syntax:</u>\n",
        "\n",
        "\n",
        "```\n",
        "l=[val1,val2,val3]\n",
        "l.remove(val2)\n",
        "#Output will be -> [val1,val3]\n",
        "```\n",
        "\n"
      ]
    },
    {
      "cell_type": "code",
      "execution_count": null,
      "metadata": {
        "colab": {
          "base_uri": "https://localhost:8080/"
        },
        "id": "93PPYOLAF-rV",
        "outputId": "ccde9141-19a4-45bd-f9d7-5da9e8e359e7"
      },
      "outputs": [
        {
          "name": "stdout",
          "output_type": "stream",
          "text": [
            "[1, 3]\n",
            "[1]\n",
            "[1, 2, 5, 6, 7, 8, 9]\n",
            "[2, 5, 6, 7, 8, 9]\n",
            "[]\n",
            "['a', 'c']\n"
          ]
        }
      ],
      "source": [
        "l=[1,2,3]\n",
        "l.remove(2)\n",
        "print(l)\n",
        "l.pop()\n",
        "print(l)\n",
        "\n",
        "m=[1,2,3,4,5,6,7,8,9]\n",
        "del m[2:4]\n",
        "print(m)\n",
        "m.pop(0)\n",
        "print(m)\n",
        "m.clear()\n",
        "print(m)\n",
        "\n",
        "z=['a','b','c']\n",
        "z.remove('b')\n",
        "print(z)"
      ]
    },
    {
      "cell_type": "code",
      "execution_count": null,
      "metadata": {
        "colab": {
          "base_uri": "https://localhost:8080/"
        },
        "id": "jIsETzafIPeo",
        "outputId": "2394c6ee-3a6b-4d18-ac3e-1666f438a30f"
      },
      "outputs": [
        {
          "name": "stdout",
          "output_type": "stream",
          "text": [
            "1\n",
            "2\n",
            "3\n"
          ]
        }
      ],
      "source": [
        "l=[1,2,3]\n",
        "for i in l:\n",
        "  print(i)"
      ]
    },
    {
      "cell_type": "code",
      "execution_count": null,
      "metadata": {
        "colab": {
          "base_uri": "https://localhost:8080/"
        },
        "id": "lSOXJOBPKjsJ",
        "outputId": "99dfc75c-11ac-4e02-f55d-f7904ebbe6e1"
      },
      "outputs": [
        {
          "name": "stdout",
          "output_type": "stream",
          "text": [
            "1\n",
            "2\n",
            "3\n",
            "\n",
            "\n",
            "a\n",
            "b\n",
            "c\n"
          ]
        }
      ],
      "source": [
        "l=[1,2,3]\n",
        "for i in range(len(l)):\n",
        "  print(l[i])\n",
        "print(\"\\n\")\n",
        "m=['a','b','c']\n",
        "i=0\n",
        "while i < len(m):\n",
        "  print(m[i])\n",
        "  i+=1"
      ]
    },
    {
      "cell_type": "markdown",
      "metadata": {
        "id": "Q33YrM04MgkE"
      },
      "source": [
        "<u>List Comprehension:\n",
        "\n",
        "Syntax:</u>\n",
        "\n",
        "\n",
        "```\n",
        "list=[expression for item in iterable if condition == True]\n",
        "```\n",
        "\n"
      ]
    },
    {
      "cell_type": "code",
      "execution_count": null,
      "metadata": {
        "colab": {
          "base_uri": "https://localhost:8080/"
        },
        "id": "2o8WxRPcK0vh",
        "outputId": "a7a8f336-cdd2-4608-d16f-1fa609c41464"
      },
      "outputs": [
        {
          "name": "stdout",
          "output_type": "stream",
          "text": [
            "0\n",
            "1\n",
            "2\n",
            "3\n",
            "4\n"
          ]
        }
      ],
      "source": [
        "l=[print(i) for i in range(5)]"
      ]
    },
    {
      "cell_type": "code",
      "execution_count": null,
      "metadata": {
        "colab": {
          "base_uri": "https://localhost:8080/"
        },
        "id": "R4awP5MiNG5P",
        "outputId": "9c2f12d7-01f4-451b-efa6-b133184008ad"
      },
      "outputs": [
        {
          "name": "stdout",
          "output_type": "stream",
          "text": [
            "['aa', 'ba', 'ca']\n",
            "\n",
            "\n",
            "2\n",
            "4\n",
            "6\n"
          ]
        }
      ],
      "source": [
        "l=['a','b','c']\n",
        "a=[i+'a' for i in l]\n",
        "print(a)\n",
        "\n",
        "print(\"\\n\")\n",
        "\n",
        "m=[1,2,3,4,5,6]\n",
        "x=[print(j) for j in m if j%2==0]"
      ]
    },
    {
      "cell_type": "markdown",
      "metadata": {
        "id": "eC73dGqv1f3q"
      },
      "source": [
        "**DAY 2** (3 June 2025)"
      ]
    },
    {
      "cell_type": "markdown",
      "metadata": {
        "id": "XNmBX85A2-FI"
      },
      "source": [
        "<U>SORTING OF A LIST</U>:\n",
        "\n",
        "Syntax:\n",
        "\n",
        "\n",
        "```\n",
        "l=[val1,val2,val3,valn]\n",
        "l.sort() #Ascending\n",
        "l.sort(reverse=True) #Descending\n",
        "```\n",
        "\n"
      ]
    },
    {
      "cell_type": "code",
      "execution_count": null,
      "metadata": {
        "colab": {
          "base_uri": "https://localhost:8080/"
        },
        "id": "-B4Pvt-GnrsR",
        "outputId": "a3218b14-f3a2-4a9f-dd52-956bb5b0c69f"
      },
      "outputs": [
        {
          "name": "stdout",
          "output_type": "stream",
          "text": [
            "['a', 'b', 'c', 'j', 'z']\n",
            "['z', 'j', 'c', 'b', 'a']\n"
          ]
        }
      ],
      "source": [
        "l=['a','j','b','z','c']\n",
        "l.sort()\n",
        "print(l)\n",
        "\n",
        "l.sort(reverse=True)\n",
        "print(l)"
      ]
    },
    {
      "cell_type": "markdown",
      "metadata": {
        "id": "wPvcJXPp5bu5"
      },
      "source": [
        "<u>Copying elements of a list:</u>\n",
        "\n",
        "<u>copy():</u>\n",
        "\n",
        "Syntax:\n",
        "\n",
        "\n",
        "```\n",
        "l1=[val1,val2,....,valn]\n",
        "l2=l1.copy()\n",
        "```\n",
        "<u>list():</u>\n",
        "\n",
        "Syntax:\n",
        "\n",
        "\n",
        "```\n",
        "l1=[val1,val2,....,valn]\n",
        "l2=list(l1)\n",
        "```\n",
        "<u>Slicing:</u>\n",
        "\n",
        "\n",
        "```\n",
        "l1=[val1,val2,....,valn]\n",
        "l2=l1[:]\n",
        "```\n"
      ]
    },
    {
      "cell_type": "code",
      "execution_count": null,
      "metadata": {
        "colab": {
          "base_uri": "https://localhost:8080/"
        },
        "id": "_TDJjwD64SC1",
        "outputId": "d64f15da-e23b-4204-e948-f6b05a1b4b37"
      },
      "outputs": [
        {
          "name": "stdout",
          "output_type": "stream",
          "text": [
            "[1, 2, 3, 4, 5, 6]\n"
          ]
        }
      ],
      "source": [
        "l=[1,2,3,4,5,6]\n",
        "m=l[:]\n",
        "print(m)"
      ]
    },
    {
      "cell_type": "markdown",
      "metadata": {
        "id": "mOnXsATx8hsq"
      },
      "source": [
        "<u>JOINING LISTS</u>\n",
        "\n",
        "Syntax:(Using '+')\n",
        "\n",
        "\n",
        "```\n",
        "l=[1,2,3,4,5,6]\n",
        "m=['a','b','c']\n",
        "n=l+m #Joining two lists\n",
        "print(n)\n",
        "```\n",
        "\n",
        "Syntax: (By using loop and append())\n",
        "\n",
        "\n",
        "```\n",
        "l=[1,2,3,4,5,6]\n",
        "m=['a','b','c']\n",
        "for i in l:\n",
        "  m.append(i)\n",
        "print(m)\n",
        "```\n",
        "Syntax: extend()\n",
        "\n",
        "\n",
        "```\n",
        "l=[1,2,3,4,5,6]\n",
        "m=['a','b','c']\n",
        "l.extend(m)\n",
        "print(l)\n",
        "```\n",
        "\n",
        "\n",
        "\n",
        "\n"
      ]
    },
    {
      "cell_type": "code",
      "execution_count": null,
      "metadata": {
        "colab": {
          "base_uri": "https://localhost:8080/"
        },
        "id": "AiHTPbss7Fc2",
        "outputId": "5ea939c0-6fde-409f-c490-e8b4320f38dc"
      },
      "outputs": [
        {
          "name": "stdout",
          "output_type": "stream",
          "text": [
            "[1, 2, 3, 4, 5, 6, 'a', 'b', 'c']\n"
          ]
        }
      ],
      "source": [
        "l=[1,2,3,4,5,6]\n",
        "m=['a','b','c']\n",
        "n=l+m #Joining two lists\n",
        "print(n)"
      ]
    },
    {
      "cell_type": "code",
      "execution_count": null,
      "metadata": {
        "colab": {
          "base_uri": "https://localhost:8080/"
        },
        "id": "T56pcBJz9DKr",
        "outputId": "9693f9fb-11e5-4719-ba4b-ef9e27ffd72d"
      },
      "outputs": [
        {
          "name": "stdout",
          "output_type": "stream",
          "text": [
            "['a', 'b', 'c', 1, 2, 3, 4, 5, 6]\n"
          ]
        }
      ],
      "source": [
        "l=[1,2,3,4,5,6]\n",
        "m=['a','b','c']\n",
        "for i in l:\n",
        "  m.append(i)\n",
        "print(m)"
      ]
    },
    {
      "cell_type": "code",
      "execution_count": null,
      "metadata": {
        "colab": {
          "base_uri": "https://localhost:8080/"
        },
        "id": "5PBqEHkX75DR",
        "outputId": "2ccddac8-89df-4a40-c10f-2f3afd94e795"
      },
      "outputs": [
        {
          "name": "stdout",
          "output_type": "stream",
          "text": [
            "['a', 'b', 'c', 1]\n",
            "['a', 'b', 'c', 1, 2]\n",
            "['a', 'b', 'c', 1, 2, 3]\n",
            "['a', 'b', 'c', 1, 2, 3, 4]\n",
            "['a', 'b', 'c', 1, 2, 3, 4, 5]\n",
            "['a', 'b', 'c', 1, 2, 3, 4, 5, 6]\n"
          ]
        }
      ],
      "source": [
        "l=[1,2,3,4,5,6]\n",
        "m=['a','b','c']\n",
        "for i in l:\n",
        "  m.append(i)\n",
        "  print(m) #Displays entire joining process"
      ]
    },
    {
      "cell_type": "code",
      "execution_count": null,
      "metadata": {
        "colab": {
          "base_uri": "https://localhost:8080/"
        },
        "id": "vOaJVTBL8rBF",
        "outputId": "57f7543f-2781-4091-8c8a-f268c21b76bd"
      },
      "outputs": [
        {
          "name": "stdout",
          "output_type": "stream",
          "text": [
            "[1, 2, 3, 4, 5, 6, 'a', 'b', 'c']\n"
          ]
        }
      ],
      "source": [
        "l=[1,2,3,4,5,6]\n",
        "m=['a','b','c']\n",
        "l.extend(m)\n",
        "print(l)"
      ]
    },
    {
      "cell_type": "markdown",
      "metadata": {
        "id": "9OHD6I2p-LA3"
      },
      "source": [
        "<U>TUPLE</U>"
      ]
    },
    {
      "cell_type": "code",
      "execution_count": null,
      "metadata": {
        "colab": {
          "base_uri": "https://localhost:8080/"
        },
        "id": "laqAgDgU-H40",
        "outputId": "653abacb-e89e-41d2-ad3e-0b31d707ed3f"
      },
      "outputs": [
        {
          "name": "stdout",
          "output_type": "stream",
          "text": [
            "('apple', 'banana', 'cherry')\n",
            "(1,)\n",
            "1\n",
            "3\n",
            "<class 'tuple'>\n"
          ]
        }
      ],
      "source": [
        "t = (\"apple\", \"banana\", \"cherry\")\n",
        "print(t)\n",
        "\n",
        "m=(1,)\n",
        "print(m)\n",
        "\n",
        "n=(1) #It is treated as an integer\n",
        "print(n)\n",
        "\n",
        "print(len(t))\n",
        "print(type(t))"
      ]
    },
    {
      "cell_type": "markdown",
      "metadata": {
        "id": "X1TLqIZFAKAn"
      },
      "source": [
        "Tuple Constructor: (tuple())\n",
        "\n",
        "Syntax:\n",
        "\n",
        "\n",
        "```\n",
        "tuple(variables/list of elements)\n",
        "```\n",
        "\n"
      ]
    },
    {
      "cell_type": "code",
      "execution_count": null,
      "metadata": {
        "colab": {
          "base_uri": "https://localhost:8080/"
        },
        "id": "QTJHJuAA-kcO",
        "outputId": "08f065cf-19e7-4913-c39f-cfd6f9166072"
      },
      "outputs": [
        {
          "name": "stdout",
          "output_type": "stream",
          "text": [
            "<class 'list'>\n",
            "<class 'tuple'>\n",
            "2\n"
          ]
        }
      ],
      "source": [
        "l=[1,2,3]\n",
        "print(type(l))\n",
        "x=tuple(l)\n",
        "print(type(x))\n",
        "\n",
        "print(x[1])"
      ]
    },
    {
      "cell_type": "code",
      "execution_count": null,
      "metadata": {
        "colab": {
          "base_uri": "https://localhost:8080/"
        },
        "id": "hgwWAQ1sAphr",
        "outputId": "7e0b9890-2fd1-4fdc-a68d-525849a9bcbb"
      },
      "outputs": [
        {
          "name": "stdout",
          "output_type": "stream",
          "text": [
            "104\n",
            "('a', True, 37j)\n",
            "(1, 2, 'a')\n",
            "(True, 37j, 104)\n",
            "(True, 37j)\n"
          ]
        }
      ],
      "source": [
        "t=(1,2,'a',True,37j,104)\n",
        "print(t[-1])\n",
        "print(t[2:5])\n",
        "print(t[:3])\n",
        "print(t[3:])\n",
        "print(t[-3:-1])"
      ]
    },
    {
      "cell_type": "code",
      "execution_count": null,
      "metadata": {
        "colab": {
          "base_uri": "https://localhost:8080/"
        },
        "id": "0mAgFKDMBXJR",
        "outputId": "1b63987f-d51b-4321-dd04-f7758cf3d3a2"
      },
      "outputs": [
        {
          "name": "stdout",
          "output_type": "stream",
          "text": [
            "FOUND THE ELEMENT!\n"
          ]
        }
      ],
      "source": [
        "t=(1,2,'a',True,37j,104)\n",
        "if 'a' in t:\n",
        "  print('FOUND THE ELEMENT!')"
      ]
    },
    {
      "cell_type": "markdown",
      "metadata": {
        "id": "FmLposDMDlTI"
      },
      "source": [
        "<u>**UPDATING A TUPLE**</u>\n",
        "\n",
        "SYNTAX:\n",
        "\n",
        "\n",
        "```\n",
        "t=(1,2,3)\n",
        "m=list(t) #Converting to list\n",
        "m[1]=4\n",
        "t=tuple(m) #Updating the existing tuple\n",
        "```\n",
        "\n"
      ]
    },
    {
      "cell_type": "code",
      "execution_count": null,
      "metadata": {
        "colab": {
          "base_uri": "https://localhost:8080/"
        },
        "id": "f_vIBA2KC0Hy",
        "outputId": "61be9e58-048d-4114-fec9-812df3ef5892"
      },
      "outputs": [
        {
          "name": "stdout",
          "output_type": "stream",
          "text": [
            "(1, 4, 3)\n",
            "<class 'tuple'>\n"
          ]
        }
      ],
      "source": [
        "t=(1,2,3)\n",
        "m=list(t)\n",
        "m[1]=4\n",
        "t=tuple(m)\n",
        "print(t)\n",
        "print(type(t))"
      ]
    },
    {
      "cell_type": "code",
      "execution_count": null,
      "metadata": {
        "colab": {
          "base_uri": "https://localhost:8080/"
        },
        "id": "ZMVx349IEMDF",
        "outputId": "89326a81-3e37-4c8f-a810-ab07d843f76c"
      },
      "outputs": [
        {
          "name": "stdout",
          "output_type": "stream",
          "text": [
            "(1, 2, 3, 4, 5, 6, 7)\n"
          ]
        }
      ],
      "source": [
        "t=(1,2,3)\n",
        "m=list(t)\n",
        "m.append(4)\n",
        "m.extend([5,6,7])\n",
        "t=tuple(m)\n",
        "print(t)"
      ]
    },
    {
      "cell_type": "code",
      "execution_count": null,
      "metadata": {
        "colab": {
          "base_uri": "https://localhost:8080/"
        },
        "id": "ncbcyCV6E9W6",
        "outputId": "80bd6326-7106-452c-c702-7d7e71190568"
      },
      "outputs": [
        {
          "name": "stdout",
          "output_type": "stream",
          "text": [
            "(1, 3)\n"
          ]
        }
      ],
      "source": [
        "t=(1,2,3)\n",
        "m=list(t)\n",
        "m.remove(2)\n",
        "t=tuple(m)\n",
        "print(t)"
      ]
    },
    {
      "cell_type": "code",
      "execution_count": null,
      "metadata": {
        "id": "nR_NXGh5GVcA"
      },
      "outputs": [],
      "source": [
        "t=(1,2,3)\n",
        "del t\n",
        "print(t) #This will raise an error coz the tuple is empty"
      ]
    },
    {
      "cell_type": "code",
      "execution_count": null,
      "metadata": {
        "colab": {
          "base_uri": "https://localhost:8080/"
        },
        "id": "IExFCntjHFMb",
        "outputId": "a67aaa9e-ad67-45ed-d33a-0ee28e144be1"
      },
      "outputs": [
        {
          "name": "stdout",
          "output_type": "stream",
          "text": [
            "1\n",
            "2\n",
            "3\n"
          ]
        }
      ],
      "source": [
        "t=(1,2,3)\n",
        "for i in t:\n",
        "  print(i)"
      ]
    },
    {
      "cell_type": "code",
      "execution_count": 50,
      "metadata": {
        "colab": {
          "base_uri": "https://localhost:8080/"
        },
        "id": "6G9M-k42HcBn",
        "outputId": "08884f6b-e204-4a37-dd16-6ffb342512e1"
      },
      "outputs": [
        {
          "name": "stdout",
          "output_type": "stream",
          "text": [
            "1\n",
            "2\n",
            "3\n"
          ]
        }
      ],
      "source": [
        "t=(1,2,3)\n",
        "for i in range(len(t)):\n",
        "  print(t[i])"
      ]
    },
    {
      "cell_type": "code",
      "execution_count": 53,
      "metadata": {
        "colab": {
          "base_uri": "https://localhost:8080/"
        },
        "id": "07SuG3-wIRe_",
        "outputId": "926277da-21b4-4f1f-bade-3907d27c8cd5"
      },
      "outputs": [
        {
          "name": "stdout",
          "output_type": "stream",
          "text": [
            "1\n",
            "2\n",
            "3\n"
          ]
        }
      ],
      "source": [
        "t=(1,2,3)\n",
        "i=0\n",
        "while i < (len(t)):\n",
        "  print(t[i])\n",
        "  i+=1"
      ]
    },
    {
      "cell_type": "code",
      "execution_count": 55,
      "metadata": {
        "colab": {
          "base_uri": "https://localhost:8080/"
        },
        "id": "IkladPP8I_19",
        "outputId": "22c1a9d0-bcf8-4176-a270-51e38189b842"
      },
      "outputs": [
        {
          "name": "stdout",
          "output_type": "stream",
          "text": [
            "(1, 2, 3, 'a', 'b', 'c')\n"
          ]
        }
      ],
      "source": [
        "#Joining two tuples\n",
        "t=(1,2,3)\n",
        "m=('a','b','c')\n",
        "n=t+m\n",
        "print(n)"
      ]
    },
    {
      "cell_type": "code",
      "execution_count": 57,
      "metadata": {
        "colab": {
          "base_uri": "https://localhost:8080/"
        },
        "id": "26g32MSBJkkm",
        "outputId": "c4f853c5-a4a3-4d0c-e7c2-95c3ad0cc750"
      },
      "outputs": [
        {
          "name": "stdout",
          "output_type": "stream",
          "text": [
            "('a', 'b', 'c', 'a', 'b', 'c', 'a', 'b', 'c')\n"
          ]
        }
      ],
      "source": [
        "m=('a','b','c')\n",
        "n=m*3\n",
        "print(n)"
      ]
    },
    {
      "cell_type": "markdown",
      "metadata": {
        "id": "2A9FEQ2iRgkA"
      },
      "source": [
        "<U>**SET**</U>\n",
        "\n",
        "SYNTAX:\n",
        "\n",
        "```\n",
        "s={val1,val2,....}\n",
        "```\n",
        "\n",
        "\n",
        "\n",
        "*   It is unordered and unchangable. It ignores duplicate values when displayed\n",
        "*   <u>**True**</u> is considered as 1 so, if there is 1 in the set then, that 1 (ie, True coz 1 is repeated innit) is not displayed in the output and it is the same for <u>**False**</u> as well which is 0.\n",
        "\n",
        "\n"
      ]
    },
    {
      "cell_type": "code",
      "execution_count": 58,
      "metadata": {
        "colab": {
          "base_uri": "https://localhost:8080/"
        },
        "id": "edyQilKZRpO9",
        "outputId": "d249cd15-2e6c-4e2d-b76b-2c684ce92107"
      },
      "outputs": [
        {
          "name": "stdout",
          "output_type": "stream",
          "text": [
            "{1, 2, 3, 4, 5}\n"
          ]
        }
      ],
      "source": [
        "s={1,1,1,1,1,2,2,2,2,3,4,4,4,5}\n",
        "print(s)"
      ]
    },
    {
      "cell_type": "code",
      "execution_count": 60,
      "metadata": {
        "colab": {
          "base_uri": "https://localhost:8080/"
        },
        "id": "kT-3QFJ5SMaG",
        "outputId": "f9bb7f58-b78e-4ea9-adc5-c6ed080c6a37"
      },
      "outputs": [
        {
          "name": "stdout",
          "output_type": "stream",
          "text": [
            "{1}\n"
          ]
        }
      ],
      "source": [
        "s={1,True}\n",
        "print(s)"
      ]
    },
    {
      "cell_type": "code",
      "execution_count": 61,
      "metadata": {
        "colab": {
          "base_uri": "https://localhost:8080/"
        },
        "id": "d3YnsFzETURe",
        "outputId": "72a5e135-adee-4177-8aba-45a8a0db1323"
      },
      "outputs": [
        {
          "name": "stdout",
          "output_type": "stream",
          "text": [
            "3\n",
            "<class 'set'>\n"
          ]
        }
      ],
      "source": [
        "s={1,2,3}\n",
        "l=len(s)\n",
        "t=type(s)\n",
        "print(l)\n",
        "print(t)"
      ]
    },
    {
      "cell_type": "markdown",
      "metadata": {
        "id": "WZe4siBiT0ek"
      },
      "source": [
        "SET CONSTRUCTOR"
      ]
    },
    {
      "cell_type": "code",
      "execution_count": 62,
      "metadata": {
        "colab": {
          "base_uri": "https://localhost:8080/"
        },
        "id": "U-GcLFZ1Tyun",
        "outputId": "bb4569c5-0f3c-42dc-b60b-50b8fbdf0226"
      },
      "outputs": [
        {
          "name": "stdout",
          "output_type": "stream",
          "text": [
            "{'a', 'c', 'b'}\n"
          ]
        }
      ],
      "source": [
        "s=set(('a','b','a','c'))\n",
        "print(s)"
      ]
    },
    {
      "cell_type": "markdown",
      "metadata": {
        "id": "n55n0VeKUOU6"
      },
      "source": [
        "ACCESSING VALUES OF A SET"
      ]
    },
    {
      "cell_type": "code",
      "execution_count": 64,
      "metadata": {
        "colab": {
          "base_uri": "https://localhost:8080/"
        },
        "id": "c77ppLHTUNoe",
        "outputId": "7e0f7742-32b0-49ed-93d0-596761fa77b9"
      },
      "outputs": [
        {
          "name": "stdout",
          "output_type": "stream",
          "text": [
            "1\n",
            "2\n",
            "3\n",
            "5\n",
            "6\n",
            "7\n"
          ]
        }
      ],
      "source": [
        "s={1,2,3,1,1,1,2,2,5,6,7}\n",
        "for i in s:\n",
        "  print(i)"
      ]
    },
    {
      "cell_type": "code",
      "execution_count": 68,
      "metadata": {
        "colab": {
          "base_uri": "https://localhost:8080/"
        },
        "id": "lulxukCuUfgu",
        "outputId": "41c1e211-b749-49eb-977d-781090421cc1"
      },
      "outputs": [
        {
          "name": "stdout",
          "output_type": "stream",
          "text": [
            "True\n",
            "False\n"
          ]
        }
      ],
      "source": [
        "s={'banana','orange','mango'}\n",
        "print(\"banana\" in s)\n",
        "print(\"mango\" not in s)"
      ]
    },
    {
      "cell_type": "markdown",
      "metadata": {
        "id": "8X-KK7huVVn6"
      },
      "source": [
        "<U>ADDING ELEMENT/S TO THE SET</U>:"
      ]
    },
    {
      "cell_type": "code",
      "execution_count": 70,
      "metadata": {
        "colab": {
          "base_uri": "https://localhost:8080/"
        },
        "id": "rDMqKrfFU9-m",
        "outputId": "6d3e8bfd-cbed-45e1-89aa-fbf3609f4950"
      },
      "outputs": [
        {
          "name": "stdout",
          "output_type": "stream",
          "text": [
            "{1, 2, 3, 7}\n"
          ]
        }
      ],
      "source": [
        "S={1,2,3}\n",
        "S.add(7)\n",
        "print(S)"
      ]
    },
    {
      "cell_type": "code",
      "execution_count": 71,
      "metadata": {
        "colab": {
          "base_uri": "https://localhost:8080/"
        },
        "id": "LlL2hOZsVjT9",
        "outputId": "528fad3b-7d77-48e1-da33-3da7903d711f"
      },
      "outputs": [
        {
          "name": "stdout",
          "output_type": "stream",
          "text": [
            "{1, 2, 3, 4, 5, 6}\n"
          ]
        }
      ],
      "source": [
        "s={1,2,3}\n",
        "t={4,5,6}\n",
        "s.update(t)\n",
        "print(s)"
      ]
    },
    {
      "cell_type": "code",
      "execution_count": 73,
      "metadata": {
        "colab": {
          "base_uri": "https://localhost:8080/"
        },
        "id": "2X8BYl9wV1fy",
        "outputId": "f9a76b47-2264-4b47-bd79-ea5998ac1d4b"
      },
      "outputs": [
        {
          "name": "stdout",
          "output_type": "stream",
          "text": [
            "{1, 2, 3, 4, 5, 6}\n"
          ]
        }
      ],
      "source": [
        "s={1,2,3}\n",
        "t=[4,5,6] #List\n",
        "s.update(t)\n",
        "print(s)"
      ]
    },
    {
      "cell_type": "markdown",
      "metadata": {
        "id": "FpTDE2r5WKfi"
      },
      "source": [
        "<u>REMOVING/DELETION ELEMENTS FROM A SET:</u>\n",
        "\n",
        "\n",
        "*   remove()\n",
        "*   discard()\n",
        "*   pop()\n",
        "*   clear()\n",
        "*   del set\n",
        "\n",
        "If the the element to be deleted is not found, then it would be best to use 'discard()' as it shows no error, but 'remove()' will arise an error.\n"
      ]
    },
    {
      "cell_type": "code",
      "execution_count": 74,
      "metadata": {
        "colab": {
          "base_uri": "https://localhost:8080/"
        },
        "id": "hSdtPXjzV9lS",
        "outputId": "a67c4385-ae4c-4036-f693-f35c9356d38d"
      },
      "outputs": [
        {
          "name": "stdout",
          "output_type": "stream",
          "text": [
            "{1, 3, 4, 5, 6, 7}\n",
            "{1, 3, 5, 6, 7}\n",
            "{1, 3, 5, 6, 7}\n"
          ]
        }
      ],
      "source": [
        "s={1,2,3,4,5,6,7}\n",
        "s.discard(2)\n",
        "print(s)\n",
        "s.remove(4)\n",
        "print(s)\n",
        "s.discard(9)\n",
        "print(s)\n",
        "#s.remove(9) will arise an error when executed"
      ]
    },
    {
      "cell_type": "code",
      "execution_count": 77,
      "metadata": {
        "colab": {
          "base_uri": "https://localhost:8080/"
        },
        "id": "H2s-zKQqW1Zp",
        "outputId": "28aaed4c-a24a-4139-8561-49778e718699"
      },
      "outputs": [
        {
          "name": "stdout",
          "output_type": "stream",
          "text": [
            "apple\n",
            "{'banana', 'cherry'}\n"
          ]
        }
      ],
      "source": [
        "s={'apple','banana','cherry'}\n",
        "x=s.pop()\n",
        "print(x)\n",
        "print(s)"
      ]
    },
    {
      "cell_type": "code",
      "execution_count": 79,
      "metadata": {
        "colab": {
          "base_uri": "https://localhost:8080/"
        },
        "id": "qdtqTdw6XZNF",
        "outputId": "38d8e702-89ab-4e32-87de-ab59234d3b38"
      },
      "outputs": [
        {
          "name": "stdout",
          "output_type": "stream",
          "text": [
            "set()\n"
          ]
        }
      ],
      "source": [
        "s={1,2,3}\n",
        "s.clear()\n",
        "print(s)"
      ]
    },
    {
      "cell_type": "code",
      "execution_count": 80,
      "metadata": {
        "colab": {
          "base_uri": "https://localhost:8080/",
          "height": 176
        },
        "id": "gbw7pQ4iYAho",
        "outputId": "e4792d8d-92de-40f6-d680-7cfc16680409"
      },
      "outputs": [
        {
          "ename": "NameError",
          "evalue": "name 's' is not defined",
          "output_type": "error",
          "traceback": [
            "\u001b[0;31m---------------------------------------------------------------------------\u001b[0m",
            "\u001b[0;31mNameError\u001b[0m                                 Traceback (most recent call last)",
            "\u001b[0;32m<ipython-input-80-b5f93cb6b815>\u001b[0m in \u001b[0;36m<cell line: 0>\u001b[0;34m()\u001b[0m\n\u001b[1;32m      1\u001b[0m \u001b[0ms\u001b[0m\u001b[0;34m=\u001b[0m\u001b[0;34m{\u001b[0m\u001b[0;36m1\u001b[0m\u001b[0;34m,\u001b[0m\u001b[0;36m2\u001b[0m\u001b[0;34m,\u001b[0m\u001b[0;36m3\u001b[0m\u001b[0;34m}\u001b[0m\u001b[0;34m\u001b[0m\u001b[0;34m\u001b[0m\u001b[0m\n\u001b[1;32m      2\u001b[0m \u001b[0;32mdel\u001b[0m \u001b[0ms\u001b[0m\u001b[0;34m\u001b[0m\u001b[0;34m\u001b[0m\u001b[0m\n\u001b[0;32m----> 3\u001b[0;31m \u001b[0mprint\u001b[0m\u001b[0;34m(\u001b[0m\u001b[0ms\u001b[0m\u001b[0;34m)\u001b[0m\u001b[0;34m\u001b[0m\u001b[0;34m\u001b[0m\u001b[0m\n\u001b[0m",
            "\u001b[0;31mNameError\u001b[0m: name 's' is not defined"
          ]
        }
      ],
      "source": [
        "s={1,2,3}\n",
        "del s\n",
        "print(s)"
      ]
    },
    {
      "cell_type": "code",
      "execution_count": 81,
      "metadata": {
        "colab": {
          "base_uri": "https://localhost:8080/"
        },
        "id": "1wnIUFagYbKj",
        "outputId": "5b3cb489-819d-46ea-eb59-48b8914811ec"
      },
      "outputs": [
        {
          "name": "stdout",
          "output_type": "stream",
          "text": [
            "1\n",
            "2\n",
            "3\n"
          ]
        }
      ],
      "source": [
        "s={1,2,3}\n",
        "for i in s:\n",
        "  print(i)"
      ]
    },
    {
      "cell_type": "markdown",
      "metadata": {
        "id": "HtTmQDSeaX9Z"
      },
      "source": [
        "<U>JOIN SETS</U>\n",
        "\n",
        "\n",
        "*   The union() and update() methods joins all items from both sets.\n",
        "*   The intersection() method keeps ONLY the duplicates.\n",
        "*   The difference() method keeps the items from the first set that are not in the other set(s).\n",
        "*   The symmetric_difference() method keeps all items EXCEPT the duplicates."
      ]
    },
    {
      "cell_type": "code",
      "execution_count": 83,
      "metadata": {
        "colab": {
          "base_uri": "https://localhost:8080/"
        },
        "id": "xealjgPVZteo",
        "outputId": "31aa4c74-1625-4dcd-81dc-3ae0a53a0de6"
      },
      "outputs": [
        {
          "name": "stdout",
          "output_type": "stream",
          "text": [
            "{'apple', 'banana', 'google', 'microsoft', 'cherry'}\n"
          ]
        }
      ],
      "source": [
        "set1 = {\"apple\", \"banana\", \"cherry\"}\n",
        "set2 = {\"google\", \"microsoft\", \"apple\"}\n",
        "\n",
        "set3=set1.union(set2)\n",
        "print(set3)"
      ]
    },
    {
      "cell_type": "code",
      "execution_count": 82,
      "metadata": {
        "colab": {
          "base_uri": "https://localhost:8080/"
        },
        "id": "9H5RLQhtZLdu",
        "outputId": "5274fe63-4102-4dd8-8026-c58d7ed5c201"
      },
      "outputs": [
        {
          "name": "stdout",
          "output_type": "stream",
          "text": [
            "{'banana', 'cherry'}\n"
          ]
        }
      ],
      "source": [
        "set1 = {\"apple\", \"banana\", \"cherry\"}\n",
        "set2 = {\"google\", \"microsoft\", \"apple\"}\n",
        "\n",
        "set3 = set1 - set2\n",
        "print(set3)"
      ]
    },
    {
      "cell_type": "code",
      "execution_count": 84,
      "metadata": {
        "colab": {
          "base_uri": "https://localhost:8080/"
        },
        "id": "CaSX7xMGZ0qS",
        "outputId": "464b3024-aba2-4023-b32a-7c883c297659"
      },
      "outputs": [
        {
          "name": "stdout",
          "output_type": "stream",
          "text": [
            "{'apple', 'banana', 'google', 'microsoft', 'cherry'}\n"
          ]
        }
      ],
      "source": [
        "set1 = {\"apple\", \"banana\", \"cherry\"}\n",
        "set2 = {\"google\", \"microsoft\", \"apple\"}\n",
        "\n",
        "set3=set1|set2\n",
        "print(set3)"
      ]
    },
    {
      "cell_type": "code",
      "execution_count": 2,
      "metadata": {
        "id": "2OzVEBs0bFyE"
      },
      "outputs": [
        {
          "name": "stdout",
          "output_type": "stream",
          "text": [
            "{'apple'}\n"
          ]
        }
      ],
      "source": [
        "set1={'apple','banana','cherry'}\n",
        "set2={'google','IBM','DELL','apple'}\n",
        "\n",
        "set3=set1.intersection(set2)\n",
        "print(set3)"
      ]
    },
    {
      "cell_type": "code",
      "execution_count": 4,
      "metadata": {},
      "outputs": [
        {
          "name": "stdout",
          "output_type": "stream",
          "text": [
            "{'cherry', 'banana'}\n"
          ]
        }
      ],
      "source": [
        "set1={'apple','banana','cherry'}\n",
        "set2={'google','IBM','DELL','apple'}\n",
        "set3=set1.difference(set2)\n",
        "print(set3)"
      ]
    },
    {
      "cell_type": "code",
      "execution_count": 5,
      "metadata": {},
      "outputs": [
        {
          "name": "stdout",
          "output_type": "stream",
          "text": [
            "{'cherry', 'banana'}\n"
          ]
        }
      ],
      "source": [
        "set1={'apple','banana','cherry'}\n",
        "set2={'google','IBM','DELL','apple'}\n",
        "set3=set1-set2\n",
        "print(set3)"
      ]
    },
    {
      "cell_type": "code",
      "execution_count": 7,
      "metadata": {},
      "outputs": [
        {
          "name": "stdout",
          "output_type": "stream",
          "text": [
            "{'cherry', 'banana'}\n"
          ]
        }
      ],
      "source": [
        "set1={'apple','banana','cherry'}\n",
        "set2={'google','IBM','DELL','apple'}\n",
        "set1.difference_update(set2)\n",
        "print(set1)"
      ]
    },
    {
      "cell_type": "code",
      "execution_count": 8,
      "metadata": {},
      "outputs": [
        {
          "name": "stdout",
          "output_type": "stream",
          "text": [
            "{'IBM', 'banana', 'google', 'cherry', 'DELL'}\n"
          ]
        }
      ],
      "source": [
        "set1={'apple','banana','cherry'}\n",
        "set2={'google','IBM','DELL','apple'}\n",
        "set3=set1.symmetric_difference(set2)\n",
        "print(set3)"
      ]
    },
    {
      "cell_type": "code",
      "execution_count": 9,
      "metadata": {},
      "outputs": [
        {
          "name": "stdout",
          "output_type": "stream",
          "text": [
            "{'IBM', 'banana', 'google', 'cherry', 'DELL'}\n"
          ]
        }
      ],
      "source": [
        "set1={'apple','banana','cherry'}\n",
        "set2={'google','IBM','DELL','apple'}\n",
        "set1.symmetric_difference_update(set2)\n",
        "print(set1)"
      ]
    },
    {
      "cell_type": "code",
      "execution_count": 10,
      "metadata": {},
      "outputs": [
        {
          "name": "stdout",
          "output_type": "stream",
          "text": [
            "{'IBM', 'banana', 'google', 'cherry', 'DELL'}\n"
          ]
        }
      ],
      "source": [
        "set1={'apple','banana','cherry'}\n",
        "set2={'google','IBM','DELL','apple'}\n",
        "set3=set1^set2\n",
        "print(set3)"
      ]
    },
    {
      "cell_type": "markdown",
      "metadata": {},
      "source": [
        "<u>**DICTIONARY**</U>\n",
        "\n",
        "```\n",
        "dict={key:value}\n",
        "```"
      ]
    },
    {
      "cell_type": "code",
      "execution_count": 11,
      "metadata": {},
      "outputs": [
        {
          "name": "stdout",
          "output_type": "stream",
          "text": [
            "{'brand': 'Ford', 'model': 'Mustang', 'year': 1964}\n"
          ]
        }
      ],
      "source": [
        "thisdict = {\n",
        "  \"brand\": \"Ford\",\n",
        "  \"model\": \"Mustang\",\n",
        "  \"year\": 1964\n",
        "}\n",
        "print(thisdict)"
      ]
    },
    {
      "cell_type": "code",
      "execution_count": 13,
      "metadata": {},
      "outputs": [
        {
          "name": "stdout",
          "output_type": "stream",
          "text": [
            "Ford\n"
          ]
        }
      ],
      "source": [
        "thisdict = {\n",
        "  \"brand\": \"Ford\",\n",
        "  \"model\": \"Mustang\",\n",
        "  \"year\": 1964\n",
        "}\n",
        "print(thisdict[\"brand\"])"
      ]
    },
    {
      "cell_type": "code",
      "execution_count": null,
      "metadata": {},
      "outputs": [],
      "source": []
    }
  ],
  "metadata": {
    "colab": {
      "provenance": []
    },
    "kernelspec": {
      "display_name": "Python 3",
      "name": "python3"
    },
    "language_info": {
      "codemirror_mode": {
        "name": "ipython",
        "version": 3
      },
      "file_extension": ".py",
      "mimetype": "text/x-python",
      "name": "python",
      "nbconvert_exporter": "python",
      "pygments_lexer": "ipython3",
      "version": "3.10.11"
    }
  },
  "nbformat": 4,
  "nbformat_minor": 0
}
